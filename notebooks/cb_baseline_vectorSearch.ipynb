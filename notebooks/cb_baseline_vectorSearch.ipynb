{
  "nbformat": 4,
  "nbformat_minor": 0,
  "metadata": {
    "colab": {
      "private_outputs": true,
      "provenance": [],
      "gpuType": "T4"
    },
    "kernelspec": {
      "name": "python3",
      "display_name": "Python 3"
    },
    "language_info": {
      "name": "python"
    },
    "accelerator": "GPU"
  },
  "cells": [
    {
      "cell_type": "code",
      "execution_count": null,
      "metadata": {
        "id": "MD7Lf1_wzvLg"
      },
      "outputs": [],
      "source": [
        "!pip install sentence_transformers~=2.2.2"
      ]
    },
    {
      "cell_type": "code",
      "source": [
        "from sklearn.metrics.pairwise import cosine_similarity\n",
        "import torch"
      ],
      "metadata": {
        "id": "xZjGPCyC0rLm"
      },
      "execution_count": null,
      "outputs": []
    },
    {
      "cell_type": "code",
      "source": [
        "import pandas as pd\n",
        "df = pd.read_csv(\"/content/questions.csv\")\n",
        "df.head()"
      ],
      "metadata": {
        "id": "h02DSfs8z9vD"
      },
      "execution_count": null,
      "outputs": []
    },
    {
      "cell_type": "code",
      "source": [
        "from sentence_transformers import SentenceTransformer\n",
        "model = SentenceTransformer('intfloat/multilingual-e5-base')"
      ],
      "metadata": {
        "id": "gvcEL3Q30kY3"
      },
      "execution_count": null,
      "outputs": []
    },
    {
      "cell_type": "code",
      "source": [
        "input_passage = model.encode(df.answer.values, normalize_embeddings=True)\n",
        "input_query = model.encode(df.question.values, normalize_embeddings=True)"
      ],
      "metadata": {
        "id": "By1Ow5Hg4USb"
      },
      "execution_count": null,
      "outputs": []
    },
    {
      "cell_type": "code",
      "source": [
        "\n",
        "sim = cosine_similarity(input_query, input_passage)\n",
        "question_answer = torch.argmax(torch.Tensor(sim),dim=1)\n"
      ],
      "metadata": {
        "id": "Ik68oypL3n5n"
      },
      "execution_count": null,
      "outputs": []
    },
    {
      "cell_type": "code",
      "source": [
        "\n",
        "res = [1 if i == question_answer[i] else 0 for i in range(len(question_answer))]\n"
      ],
      "metadata": {
        "id": "8ocazkf86eVR"
      },
      "execution_count": null,
      "outputs": []
    },
    {
      "cell_type": "code",
      "source": [
        "sum(res)/len(res)"
      ],
      "metadata": {
        "id": "wUHGVK3a7NfG"
      },
      "execution_count": null,
      "outputs": []
    }
  ]
}